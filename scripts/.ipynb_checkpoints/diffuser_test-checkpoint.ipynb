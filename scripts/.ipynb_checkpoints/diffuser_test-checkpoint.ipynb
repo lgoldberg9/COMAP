{
 "cells": [
  {
   "cell_type": "code",
   "execution_count": 7,
   "metadata": {
    "collapsed": false
   },
   "outputs": [],
   "source": [
    "def xy_to_ij(x, y, rectangle):\n",
    "    pass\n",
    "def ij_to_xy(i, j, rectangle):\n",
    "    return [(j/rectangle.cols - 1/2)*rectangle.length, \n",
    "            (1/2 - i/rectangle.rows)*rectangle.width]"
   ]
  },
  {
   "cell_type": "code",
   "execution_count": 40,
   "metadata": {
    "collapsed": false
   },
   "outputs": [],
   "source": [
    "run diffuser.py"
   ]
  },
  {
   "cell_type": "code",
   "execution_count": 48,
   "metadata": {
    "collapsed": false
   },
   "outputs": [],
   "source": [
    "r = DiffuserSpecs([2**7,2**7],\n",
    "                          [1.5, 1.5],\n",
    "                         intervals=100,\n",
    "                         alpha = 1e-5)\n",
    "\n",
    "d = Diffuser(r)"
   ]
  },
  {
   "cell_type": "code",
   "execution_count": 49,
   "metadata": {
    "collapsed": false
   },
   "outputs": [
    {
     "data": {
      "text/plain": [
       "True"
      ]
     },
     "execution_count": 49,
     "metadata": {},
     "output_type": "execute_result"
    }
   ],
   "source": [
    "d.stable()"
   ]
  },
  {
   "cell_type": "code",
   "execution_count": 50,
   "metadata": {
    "collapsed": false
   },
   "outputs": [],
   "source": [
    "for i in range(r.rows):\n",
    "    for j in range(r.cols):\n",
    "        x, y = ij_to_xy(i, j, r)\n",
    "        # print(x,y)\n",
    "        #if x**2 + y**2 < 1/4 and x**2 + y**2 > 1/9:\n",
    "        if 2*(x+0.25)**2 + y**2 < 1/25:\n",
    "            d.grid[i,j] = 30.0"
   ]
  },
  {
   "cell_type": "code",
   "execution_count": 69,
   "metadata": {
    "collapsed": false
   },
   "outputs": [],
   "source": [
    "plt.title(\"heat diffusion\")\n",
    "d.animate(cmap=\"gray\")\n"
   ]
  },
  {
   "cell_type": "code",
   "execution_count": 67,
   "metadata": {
    "collapsed": false
   },
   "outputs": [],
   "source": [
    "from mpl_toolkits.mplot3d import Axes3D\n",
    "fig = plt.figure()\n",
    "ax = fig.gca(projection='3d')\n",
    "X = np.linspace(0, r.length, r.cols + 1)\n",
    "Y = np.linspace(0, r.width, r.rows + 1)\n",
    "X, Y = np.meshgrid(X, Y)\n",
    "\n",
    "surf = ax.plot_surface(X, Y, d.grid[:,:,80],\n",
    "                      rstride=2, cstride=2, cmap=\"gray\",\n",
    "                      linewidth=0)\n",
    "\n",
    "plt.show()"
   ]
  },
  {
   "cell_type": "code",
   "execution_count": 55,
   "metadata": {
    "collapsed": false
   },
   "outputs": [
    {
     "data": {
      "text/plain": [
       "((128, 128), (128, 128), (129, 129, 100))"
      ]
     },
     "execution_count": 55,
     "metadata": {},
     "output_type": "execute_result"
    }
   ],
   "source": [
    "np.shape(X), np.shape(Y), np.shape(d.grid)"
   ]
  },
  {
   "cell_type": "code",
   "execution_count": null,
   "metadata": {
    "collapsed": true
   },
   "outputs": [],
   "source": []
  }
 ],
 "metadata": {
  "kernelspec": {
   "display_name": "Python 3",
   "language": "python",
   "name": "python3"
  },
  "language_info": {
   "codemirror_mode": {
    "name": "ipython",
    "version": 3
   },
   "file_extension": ".py",
   "mimetype": "text/x-python",
   "name": "python",
   "nbconvert_exporter": "python",
   "pygments_lexer": "ipython3",
   "version": "3.4.4"
  }
 },
 "nbformat": 4,
 "nbformat_minor": 0
}
