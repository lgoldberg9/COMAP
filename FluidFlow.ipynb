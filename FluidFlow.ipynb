{
 "cells": [
  {
   "cell_type": "code",
   "execution_count": 1,
   "metadata": {
    "collapsed": false
   },
   "outputs": [],
   "source": [
    "import numpy as np\n",
    "import matplotlib.cm as cm\n",
    "import matplotlib.pyplot as plt\n",
    "import matplotlib.animation as animation"
   ]
  },
  {
   "cell_type": "code",
   "execution_count": null,
   "metadata": {
    "collapsed": true
   },
   "outputs": [],
   "source": [
    "%matplotlib inline"
   ]
  },
  {
   "cell_type": "code",
   "execution_count": null,
   "metadata": {
    "collapsed": true
   },
   "outputs": [],
   "source": [
    "##variable declarations\n",
    "nx = 41\n",
    "ny = 41\n",
    "nt = 10\n",
    "nit = 50 \n",
    "c = 1\n",
    "dx = 2/(nx-1)\n",
    "dy = 2/(ny-1)\n",
    "x = np.linspace(0,2,nx)\n",
    "y = np.linspace(0,2,ny)\n",
    "X,Y = np.meshgrid(x,y)\n",
    "\n",
    "\n",
    "##physical variables\n",
    "rho = 1\n",
    "nu = .1\n",
    "F = 1\n",
    "dt = .01\n",
    "\n",
    "#initial conditions\n",
    "u = np.zeros((ny,nx)) ##create a XxY vector of 0's\n",
    "un = np.zeros((ny,nx)) ##create a XxY vector of 0's\n",
    "\n",
    "v = np.zeros((ny,nx)) ##create a XxY vector of 0's\n",
    "vn = np.zeros((ny,nx)) ##create a XxY vector of 0's\n",
    "\n",
    "p = np.ones((ny,nx)) ##create a XxY vector of 0's\n",
    "pn = np.ones((ny,nx)) ##create a XxY vector of 0's\n",
    "\n",
    "b = np.zeros((ny,nx))"
   ]
  },
  {
   "cell_type": "code",
   "execution_count": 32,
   "metadata": {
    "collapsed": true
   },
   "outputs": [],
   "source": [
    "def ij_to_xy(x,y):\n",
    "    return [((j/nx-1/2)*2,1/2-i/ny)*2]"
   ]
  },
  {
   "cell_type": "code",
   "execution_count": 2,
   "metadata": {
    "collapsed": true
   },
   "outputs": [],
   "source": [
    "def buildUpB(A, rho, dt, dx, dy, u, v):\n",
    "    b = np.zeros_like(u)\n",
    "    for i in range(5):\n",
    "        for j in range(5):\n",
    "            if i**2+j**2 < 25:\n",
    "                \n",
    "    \n",
    "    b[1:-1,1:-1]=rho*(1/dt*((u[1:-1,2:]-u[1:-1,0:-2])/(2*dx)+(v[2:,1:-1]-v[0:-2,1:-1])/(2*dy))-\\\n",
    "                      ((u[1:-1,2:]-u[1:-1,0:-2])/(2*dx))**2-\\\n",
    "                      2*((u[2:,1:-1]-u[0:-2,1:-1])/(2*dy)*(v[1:-1,2:]-v[1:-1,0:-2])/(2*dx))-\\\n",
    "                      ((v[2:,1:-1]-v[0:-2,1:-1])/(2*dy))**2)\n",
    "    return b"
   ]
  },
  {
   "cell_type": "code",
   "execution_count": 3,
   "metadata": {
    "collapsed": true
   },
   "outputs": [],
   "source": [
    "def presPoissPeriodic(p, dx, dy):\n",
    "    pn = np.empty_like(p)\n",
    "    \n",
    "    for q in range(nit):\n",
    "        pn = p.copy()\n",
    "        p[1:-1,1:-1] = ((pn[1:-1,2:]+pn[1:-1,0:-2])*dy**2+(pn[2:,1:-1]+pn[0:-2,1:-1])*dx**2)/\\\n",
    "            (2*(dx**2+dy**2)) -\\\n",
    "            dx**2*dy**2/(2*(dx**2+dy**2))*b[1:-1,1:-1]\n",
    "    return p"
   ]
  },
  {
   "cell_type": "code",
   "execution_count": null,
   "metadata": {
    "collapsed": true
   },
   "outputs": [],
   "source": []
  },
  {
   "cell_type": "code",
   "execution_count": 31,
   "metadata": {
    "collapsed": false
   },
   "outputs": [],
   "source": []
  },
  {
   "cell_type": "code",
   "execution_count": 30,
   "metadata": {
    "collapsed": false
   },
   "outputs": [],
   "source": [
    "udiff = 1\n",
    "stepcount = 0\n",
    "A = 1\n",
    "\n",
    "ims = []\n",
    "fig = plt.figure(figsize = (11,7), dpi=100)\n",
    "X, Y = np.meshgrid(x,y)\n",
    "\n",
    "while udiff > .001:\n",
    "    un = u.copy()\n",
    "    vn = v.copy()\n",
    "        \n",
    "    b = buildUpB(rho, dt, dx, dy, u, v)\n",
    "    p = presPoissPeriodic(p, dx, dy)\n",
    "\n",
    "    u[1:-1,1:-1] = un[1:-1,1:-1]-\\\n",
    "        un[1:-1,1:-1]*dt/dx*(un[1:-1,1:-1]-un[1:-1,0:-2])-\\\n",
    "        vn[1:-1,1:-1]*dt/dy*(un[1:-1,1:-1]-un[0:-2,1:-1])-\\\n",
    "        dt/(2*rho*dx)*(p[1:-1,2:]-p[1:-1,0:-2])+\\\n",
    "        nu*(dt/dx**2*(un[1:-1,2:]-2*un[1:-1,1:-1]+un[1:-1,0:-2])+\\\n",
    "        dt/dy**2*(un[2:,1:-1]-2*un[1:-1,1:-1]+un[0:-2,1:-1]))+F*dt\n",
    "\n",
    "    v[1:-1,1:-1] = vn[1:-1,1:-1]-\\\n",
    "        un[1:-1,1:-1]*dt/dx*(vn[1:-1,1:-1]-vn[1:-1,0:-2])-\\\n",
    "        vn[1:-1,1:-1]*dt/dy*(vn[1:-1,1:-1]-vn[0:-2,1:-1])-\\\n",
    "        dt/(2*rho*dy)*(p[2:,1:-1]-p[0:-2,1:-1])+\\\n",
    "        nu*(dt/dx**2*(vn[1:-1,2:]-2*vn[1:-1,1:-1]+vn[1:-1,0:-2])+\\\n",
    "        (dt/dy**2*(vn[2:,1:-1]-2*vn[1:-1,1:-1]+vn[0:-2,1:-1])))\n",
    "    \n",
    "    \n",
    "    \n",
    "    udiff = (np.sum(u)-np.sum(un))/np.sum(u)\n",
    "    stepcount += 1\n",
    "    plt.contourf(X,Y,p,alpha=0.5)\n",
    "    # plt.colorbar()\n",
    "    im = plt.quiver(X[::3, ::3], Y[::3, ::3], u[::3, ::3], v[::3, ::3])\n",
    "\n",
    "    ims.append([im])\n",
    "    \n",
    "    \n",
    "ani = animation.ArtistAnimation(fig, ims, interval=stepcount, blit=True)\n",
    "\n",
    "plt.show()\n"
   ]
  },
  {
   "cell_type": "code",
   "execution_count": null,
   "metadata": {
    "collapsed": false
   },
   "outputs": [],
   "source": [
    "fig = plt.figure(figsize = (11,7), dpi=100)\n",
    "X, Y = np.meshgrid(x,y)\n",
    "plt.contourf(X,Y,p,alpha=0.5)\n",
    "\n",
    "plt.colorbar()\n",
    "plt.quiver(X[::3, ::3], Y[::3, ::3], u[::3, ::3], v[::3, ::3])\n"
   ]
  },
  {
   "cell_type": "code",
   "execution_count": null,
   "metadata": {
    "collapsed": true
   },
   "outputs": [],
   "source": []
  }
 ],
 "metadata": {
  "kernelspec": {
   "display_name": "Python 3",
   "language": "python",
   "name": "python3"
  },
  "language_info": {
   "codemirror_mode": {
    "name": "ipython",
    "version": 3
   },
   "file_extension": ".py",
   "mimetype": "text/x-python",
   "name": "python",
   "nbconvert_exporter": "python",
   "pygments_lexer": "ipython3",
   "version": "3.5.1"
  }
 },
 "nbformat": 4,
 "nbformat_minor": 0
}
